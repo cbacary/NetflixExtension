{
 "cells": [
  {
   "cell_type": "code",
   "execution_count": 24,
   "source": [
    "# send get request to imdb.com/find?q=<movie_name>\n",
    "\n",
    "import requests\n",
    "from bs4 import BeautifulSoup \n",
    "import time\n",
    "\n",
    "\n",
    "def get_movie_data(movie_name):\n",
    "    url = 'http://www.imdb.com/find?q=' + movie_name\n",
    "    response = requests.get(url)\n",
    "    soup = BeautifulSoup(response.content, 'html.parser')\n",
    "    movie_data = soup.find('td', class_='result_text')\n",
    "    movie_url = movie_data.find('a').get('href')\n",
    "    return movie_url"
   ],
   "outputs": [],
   "metadata": {}
  },
  {
   "cell_type": "code",
   "execution_count": 25,
   "source": [],
   "outputs": [],
   "metadata": {}
  },
  {
   "cell_type": "code",
   "execution_count": 26,
   "source": [
    "# send get request to imdb.com/<movie_url>/ratings and get the rating\n",
    "def get_movie_rating(movie_url):\n",
    "    url = 'http://www.imdb.com' + movie_url + 'ratings'\n",
    "    print(url)\n",
    "    response = requests.get(url)\n",
    "    soup = BeautifulSoup(response.content, 'html.parser')\n",
    "    rating = soup.find_all('span', class_='ipl-rating-star__rating')[0].text\n",
    "    return rating\n",
    "\n"
   ],
   "outputs": [
    {
     "output_type": "stream",
     "name": "stdout",
     "text": [
      "http://www.imdb.com/title/tt10231312/ratings\n",
      "7.6\n",
      "1.8270082473754883\n"
     ]
    }
   ],
   "metadata": {}
  },
  {
   "cell_type": "code",
   "execution_count": null,
   "source": [
    "time_start = time.time()\n",
    "movie_url = get_movie_data('Inside Job')\n",
    "print(get_movie_rating(movie_url))\n",
    "print(time.time() - time_start)\n"
   ],
   "outputs": [],
   "metadata": {}
  }
 ],
 "metadata": {
  "orig_nbformat": 4,
  "language_info": {
   "name": "python",
   "version": "3.8.8",
   "mimetype": "text/x-python",
   "codemirror_mode": {
    "name": "ipython",
    "version": 3
   },
   "pygments_lexer": "ipython3",
   "nbconvert_exporter": "python",
   "file_extension": ".py"
  },
  "kernelspec": {
   "name": "python3",
   "display_name": "Python 3.8.8 64-bit ('NetflixExtension': conda)"
  },
  "interpreter": {
   "hash": "81155c5c30db8b754ea64a9650d96b2451ffaed2d24ca36e78532e61e446f841"
  }
 },
 "nbformat": 4,
 "nbformat_minor": 2
}