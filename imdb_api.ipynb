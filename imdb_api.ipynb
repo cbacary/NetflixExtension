{
 "cells": [
  {
   "cell_type": "code",
   "execution_count": 5,
   "source": [
    "# send get request to imdb.com/find?q=<movie_name>\n",
    "\n",
    "import requests\n",
    "from bs4 import BeautifulSoup \n",
    "\n",
    "\n",
    "def get_movie_data(movie_name):\n",
    "    url = 'http://www.imdb.com/find?q=' + movie_name\n",
    "    response = requests.get(url)\n",
    "    soup = BeautifulSoup(response.content, 'html.parser')\n",
    "    movie_data = soup.find('td', class_='result_text')\n",
    "    movie_url = movie_data.find('a').get('href')\n",
    "    return movie_url"
   ],
   "outputs": [],
   "metadata": {}
  },
  {
   "cell_type": "code",
   "execution_count": 9,
   "source": [
    "movie_url = get_movie_data('Inside Job')"
   ],
   "outputs": [],
   "metadata": {}
  },
  {
   "cell_type": "code",
   "execution_count": 17,
   "source": [
    "# send get request to imdb.com/<movie_url>/ratings and get the rating\n",
    "def get_movie_rating(movie_url):\n",
    "    url = 'http://www.imdb.com/' + movie_url + '/ratings'\n",
    "    response = requests.get(url)\n",
    "    soup = BeautifulSoup(response.content, 'html.parser')\n",
    "    rating = soup.find_all('span', class='ipl-rating-star__rating')\n",
    "    return rating\n",
    "\n",
    "print(get_movie_rating(movie_url))"
   ],
   "outputs": [
    {
     "output_type": "stream",
     "name": "stdout",
     "text": [
      "[]\n"
     ]
    }
   ],
   "metadata": {}
  },
  {
   "cell_type": "code",
   "execution_count": null,
   "source": [],
   "outputs": [],
   "metadata": {}
  }
 ],
 "metadata": {
  "orig_nbformat": 4,
  "language_info": {
   "name": "python",
   "version": "3.8.8",
   "mimetype": "text/x-python",
   "codemirror_mode": {
    "name": "ipython",
    "version": 3
   },
   "pygments_lexer": "ipython3",
   "nbconvert_exporter": "python",
   "file_extension": ".py"
  },
  "kernelspec": {
   "name": "python3",
   "display_name": "Python 3.8.8 64-bit ('NetflixExtension': conda)"
  },
  "interpreter": {
   "hash": "81155c5c30db8b754ea64a9650d96b2451ffaed2d24ca36e78532e61e446f841"
  }
 },
 "nbformat": 4,
 "nbformat_minor": 2
}